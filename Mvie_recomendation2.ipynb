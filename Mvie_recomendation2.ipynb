{
  "nbformat": 4,
  "nbformat_minor": 0,
  "metadata": {
    "colab": {
      "name": "Untitled2.ipynb",
      "provenance": [],
      "authorship_tag": "ABX9TyPM395nWIbwTctWoW49vcmY",
      "include_colab_link": true
    },
    "kernelspec": {
      "name": "python3",
      "display_name": "Python 3"
    }
  },
  "cells": [
    {
      "cell_type": "markdown",
      "metadata": {
        "id": "view-in-github",
        "colab_type": "text"
      },
      "source": [
        "<a href=\"https://colab.research.google.com/github/SankethGB/beginnerthough/blob/master/Mvie_recomendation2.ipynb\" target=\"_parent\"><img src=\"https://colab.research.google.com/assets/colab-badge.svg\" alt=\"Open In Colab\"/></a>"
      ]
    },
    {
      "cell_type": "code",
      "metadata": {
        "id": "gX39-_l1QqTv",
        "colab_type": "code",
        "colab": {
          "base_uri": "https://localhost:8080/",
          "height": 34
        },
        "outputId": "ccc40691-4078-49d0-c930-a65c666fefe4"
      },
      "source": [
        "from google.colab import drive\n",
        "drive.mount('/content/drive')"
      ],
      "execution_count": 26,
      "outputs": [
        {
          "output_type": "stream",
          "text": [
            "Drive already mounted at /content/drive; to attempt to forcibly remount, call drive.mount(\"/content/drive\", force_remount=True).\n"
          ],
          "name": "stdout"
        }
      ]
    },
    {
      "cell_type": "code",
      "metadata": {
        "id": "b_I-EpCaTDt0",
        "colab_type": "code",
        "colab": {}
      },
      "source": [
        "import pandas as pd\n",
        "import numpy as np\n",
        "import torch\n",
        "import torch.optim as optim\n",
        "import torch.nn as nn\n",
        "import torch.utils.data\n",
        "from torch.autograd import Variable"
      ],
      "execution_count": 0,
      "outputs": []
    },
    {
      "cell_type": "code",
      "metadata": {
        "id": "P7HN7PrrTEun",
        "colab_type": "code",
        "colab": {}
      },
      "source": [
        "\n",
        "users=pd.read_csv('/content/drive/My Drive/Machine Learning/Boltzmann_Machines/ml-1m/users.dat',sep='::',engine='python',header=None,encoding='latin-1')"
      ],
      "execution_count": 0,
      "outputs": []
    },
    {
      "cell_type": "code",
      "metadata": {
        "id": "mwfu5mvkTE3E",
        "colab_type": "code",
        "colab": {}
      },
      "source": [
        "movies=pd.read_csv('/content/drive/My Drive/Machine Learning/Boltzmann_Machines/ml-1m/movies.dat',sep='::',engine='python',header=None,encoding='latin-1')\n",
        "ratings=pd.read_csv('/content/drive/My Drive/Machine Learning/Boltzmann_Machines/ml-1m/ratings.dat',sep='::',engine='python',header=None,encoding='latin-1')"
      ],
      "execution_count": 0,
      "outputs": []
    },
    {
      "cell_type": "code",
      "metadata": {
        "id": "CBzA1MulTWGp",
        "colab_type": "code",
        "colab": {}
      },
      "source": [
        "\n",
        "training_set=pd.read_csv('/content/drive/My Drive/Machine Learning/Boltzmann_Machines/ml-100k/u1.base',delimiter='\\t')"
      ],
      "execution_count": 0,
      "outputs": []
    },
    {
      "cell_type": "code",
      "metadata": {
        "id": "kaGfPZjgTWJZ",
        "colab_type": "code",
        "colab": {}
      },
      "source": [
        "test_set=pd.read_csv('/content/drive/My Drive/Machine Learning/Boltzmann_Machines/ml-100k/u1.test',delimiter='\\t')"
      ],
      "execution_count": 0,
      "outputs": []
    },
    {
      "cell_type": "code",
      "metadata": {
        "id": "Ve-jvMWlTWMx",
        "colab_type": "code",
        "colab": {}
      },
      "source": [
        "training_set=np.array(training_set,dtype=int)\n",
        "test_set=np.array(test_set,dtype=int)"
      ],
      "execution_count": 0,
      "outputs": []
    },
    {
      "cell_type": "code",
      "metadata": {
        "id": "-ea8gHkHTWQP",
        "colab_type": "code",
        "colab": {}
      },
      "source": [
        "max_users=int(max(max(training_set[:,0]),max(test_set[:,0])))\n",
        "max_movies=int(max(max(training_set[:,1]),max(test_set[:,1])))"
      ],
      "execution_count": 0,
      "outputs": []
    },
    {
      "cell_type": "code",
      "metadata": {
        "id": "eobtQApmTWS4",
        "colab_type": "code",
        "colab": {}
      },
      "source": [
        "def convert(data):\n",
        "  convdata=np.zeros((max_users+1)*(max_movies+1)).reshape(max_users+1,max_movies+1)\n",
        "  for i in range(0,len(data)):\n",
        "    convdata[data[i][0]][data[i][1]]=data[i][2]\n",
        "  list(convdata)  \n",
        "  return convdata"
      ],
      "execution_count": 0,
      "outputs": []
    },
    {
      "cell_type": "code",
      "metadata": {
        "id": "rwFgc7w_TWVv",
        "colab_type": "code",
        "colab": {}
      },
      "source": [
        "training_set=convert(training_set)\n",
        "test_set=convert(test_set)"
      ],
      "execution_count": 0,
      "outputs": []
    },
    {
      "cell_type": "code",
      "metadata": {
        "id": "3NEAWV1uTond",
        "colab_type": "code",
        "colab": {}
      },
      "source": [
        "training_set=torch.FloatTensor(training_set)\n",
        "test_set=torch.FloatTensor(test_set)"
      ],
      "execution_count": 0,
      "outputs": []
    },
    {
      "cell_type": "code",
      "metadata": {
        "id": "eBMjoi7vUPG4",
        "colab_type": "code",
        "colab": {}
      },
      "source": [
        "class SAE(nn.Module):\n",
        "  def __init__(self):\n",
        "    super(SAE,self).__init__()\n",
        "    self.fc1=nn.Linear(max_movies+1,20)\n",
        "    self.fc2=nn.Linear(20,10)\n",
        "    self.fc3=nn.Linear(10,20)\n",
        "    self.fc4=nn.Linear(20,max_movies+1)\n",
        "    self.activation=nn.Sigmoid()\n",
        "  def forward(self,x):\n",
        "    x=self.activation(self.fc1(x))\n",
        "    x=self.activation(self.fc2(x))\n",
        "    x=self.activation(self.fc3(x))\n",
        "    x=self.fc4(x)\n",
        "    return x\n",
        "    \n",
        "\n",
        "  "
      ],
      "execution_count": 0,
      "outputs": []
    },
    {
      "cell_type": "code",
      "metadata": {
        "id": "p6Zj_vE8X0nX",
        "colab_type": "code",
        "colab": {}
      },
      "source": [
        "sae=SAE()\n",
        "criterion=nn.MSELoss()\n",
        "optimiser=optim.RMSprop(sae.parameters(),lr=0.01,weight_decay=0.5)"
      ],
      "execution_count": 0,
      "outputs": []
    },
    {
      "cell_type": "code",
      "metadata": {
        "id": "qq4bDm6bX-9x",
        "colab_type": "code",
        "colab": {
          "base_uri": "https://localhost:8080/",
          "height": 739
        },
        "outputId": "2ff0dc88-2c01-4a65-cf15-56d8980ad0b1"
      },
      "source": [
        "nb_epochs=200\n",
        "for epochs in range(1,nb_epochs+1):\n",
        "  training_loss=0\n",
        "  s=0.\n",
        "  for users in range(max_users):\n",
        "    x=Variable(training_set[users]).unsqueeze(0)\n",
        "    target=x.clone()\n",
        "    if torch.sum(target.data > 0) > 0:\n",
        "      output=sae(x)\n",
        "      target.requires_grad=False\n",
        "      output[target ==0] = 0\n",
        "      loss=criterion(output,target)\n",
        "      mean_corrector=(max_movies + 1 )/ float(torch.sum(target.data>0)+1e-10)\n",
        "      loss.backward()\n",
        "      training_loss+=np.sqrt(loss.data * mean_corrector)\n",
        "      s+=1.  \n",
        "      optimiser.step()\n",
        "  print(\"Epoch:\"+str(epochs)+\" Loss: \"+str(training_loss/s))\n"
      ],
      "execution_count": 0,
      "outputs": [
        {
          "output_type": "stream",
          "text": [
            "Epoch:1 Loss: tensor(0.8870)\n",
            "Epoch:2 Loss: tensor(0.8866)\n",
            "Epoch:3 Loss: tensor(0.8853)\n",
            "Epoch:4 Loss: tensor(0.8849)\n",
            "Epoch:5 Loss: tensor(0.8852)\n",
            "Epoch:6 Loss: tensor(0.8855)\n",
            "Epoch:7 Loss: tensor(0.8843)\n",
            "Epoch:8 Loss: tensor(0.8831)\n",
            "Epoch:9 Loss: tensor(0.8835)\n",
            "Epoch:10 Loss: tensor(0.8823)\n",
            "Epoch:11 Loss: tensor(0.8817)\n",
            "Epoch:12 Loss: tensor(0.8816)\n",
            "Epoch:13 Loss: tensor(0.8808)\n",
            "Epoch:14 Loss: tensor(0.8806)\n",
            "Epoch:15 Loss: tensor(0.8806)\n",
            "Epoch:16 Loss: tensor(0.8804)\n",
            "Epoch:17 Loss: tensor(0.8804)\n",
            "Epoch:18 Loss: tensor(0.8802)\n",
            "Epoch:19 Loss: tensor(0.8807)\n",
            "Epoch:20 Loss: tensor(0.8793)\n",
            "Epoch:21 Loss: tensor(0.8791)\n",
            "Epoch:22 Loss: tensor(0.8788)\n",
            "Epoch:23 Loss: tensor(0.8776)\n",
            "Epoch:24 Loss: tensor(0.8776)\n",
            "Epoch:25 Loss: tensor(0.8780)\n",
            "Epoch:26 Loss: tensor(0.8765)\n",
            "Epoch:27 Loss: tensor(0.8767)\n",
            "Epoch:28 Loss: tensor(0.8764)\n",
            "Epoch:29 Loss: tensor(0.8758)\n",
            "Epoch:30 Loss: tensor(0.8752)\n",
            "Epoch:31 Loss: tensor(0.8749)\n",
            "Epoch:32 Loss: tensor(0.8757)\n",
            "Epoch:33 Loss: tensor(0.8748)\n",
            "Epoch:34 Loss: tensor(0.8748)\n",
            "Epoch:35 Loss: tensor(0.8744)\n",
            "Epoch:36 Loss: tensor(0.8736)\n",
            "Epoch:37 Loss: tensor(0.8742)\n",
            "Epoch:38 Loss: tensor(0.8748)\n",
            "Epoch:39 Loss: tensor(0.8730)\n",
            "Epoch:40 Loss: tensor(0.8724)\n",
            "Epoch:41 Loss: tensor(0.8723)\n",
            "Epoch:42 Loss: tensor(0.8721)\n",
            "Epoch:43 Loss: tensor(0.8715)\n"
          ],
          "name": "stdout"
        }
      ]
    },
    {
      "cell_type": "code",
      "metadata": {
        "id": "EevdGysZqnJJ",
        "colab_type": "code",
        "colab": {
          "base_uri": "https://localhost:8080/",
          "height": 34
        },
        "outputId": "c479be9e-5cd3-457e-8325-95a224c03cbf"
      },
      "source": [
        "test_loss=0\n",
        "s=0.\n",
        "for users in range(max_users):\n",
        "  x=Variable(training_set[users]).unsqueeze(0)\n",
        "  target=Variable(test_set[users]).unsqueeze(0)\n",
        "  if torch.sum(target.data > 0) > 0:\n",
        "    output=sae(x)\n",
        "    target.requires_grad=False\n",
        "    output[target ==0] = 0\n",
        "    loss=criterion(output,target)\n",
        "    mean_corrector=(max_movies + 1 )/ float(torch.sum(target.data>0)+1e-10)\n",
        "    test_loss+=np.sqrt(loss.data * mean_corrector)\n",
        "    s+=1.  \n",
        "print(\"Epoch:\"+str(epochs)+\" Loss: \"+str(test_loss/s))"
      ],
      "execution_count": 56,
      "outputs": [
        {
          "output_type": "stream",
          "text": [
            "Epoch:200 Loss: tensor(0.9492)\n"
          ],
          "name": "stdout"
        }
      ]
    }
  ]
}