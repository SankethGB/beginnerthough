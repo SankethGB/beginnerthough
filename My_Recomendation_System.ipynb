{
  "nbformat": 4,
  "nbformat_minor": 0,
  "metadata": {
    "colab": {
      "name": "Untitled1.ipynb",
      "provenance": [],
      "authorship_tag": "ABX9TyM8me+xlWdFxLYstBEbm/rB"
    },
    "kernelspec": {
      "name": "python3",
      "display_name": "Python 3"
    }
  },
  "cells": [
    {
      "cell_type": "code",
      "metadata": {
        "id": "8s0F5MW1OwwI",
        "colab_type": "code",
        "colab": {}
      },
      "source": [
        "import pandas as pd\n",
        "import numpy as np\n",
        "import torch\n",
        "import torch.optim as optim\n",
        "import torch.nn as nn\n",
        "import torch.utils.data\n",
        "from torch.autograd import Variable"
      ],
      "execution_count": 0,
      "outputs": []
    },
    {
      "cell_type": "code",
      "metadata": {
        "id": "dM_4UrRJQFIf",
        "colab_type": "code",
        "colab": {}
      },
      "source": [
        "users=pd.read_csv('/content/drive/My Drive/Machine Learning/Boltzmann_Machines/ml-1m/users.dat',sep='::',engine='python',header=None,encoding='latin-1')"
      ],
      "execution_count": 0,
      "outputs": []
    },
    {
      "cell_type": "code",
      "metadata": {
        "id": "b7IumY6LRxvk",
        "colab_type": "code",
        "colab": {}
      },
      "source": [
        "movies=pd.read_csv('/content/drive/My Drive/Machine Learning/Boltzmann_Machines/ml-1m/movies.dat',sep='::',engine='python',header=None,encoding='latin-1')\n",
        "ratings=pd.read_csv('/content/drive/My Drive/Machine Learning/Boltzmann_Machines/ml-1m/ratings.dat',sep='::',engine='python',header=None,encoding='latin-1')"
      ],
      "execution_count": 0,
      "outputs": []
    },
    {
      "cell_type": "code",
      "metadata": {
        "id": "otLvfl3hSB9h",
        "colab_type": "code",
        "colab": {}
      },
      "source": [
        "training_set=pd.read_csv('/content/drive/My Drive/Machine Learning/Boltzmann_Machines/ml-100k/u1.base',delimiter='\\t')"
      ],
      "execution_count": 0,
      "outputs": []
    },
    {
      "cell_type": "code",
      "metadata": {
        "id": "PPmGGpo3OMgN",
        "colab_type": "code",
        "colab": {
          "base_uri": "https://localhost:8080/",
          "height": 121
        },
        "outputId": "1af086f8-cd54-4350-ff4f-55d6f403aeef"
      },
      "source": [
        "from google.colab import drive\n",
        "drive.mount('/content/drive')"
      ],
      "execution_count": 1,
      "outputs": [
        {
          "output_type": "stream",
          "text": [
            "Go to this URL in a browser: https://accounts.google.com/o/oauth2/auth?client_id=947318989803-6bn6qk8qdgf4n4g3pfee6491hc0brc4i.apps.googleusercontent.com&redirect_uri=urn%3aietf%3awg%3aoauth%3a2.0%3aoob&response_type=code&scope=email%20https%3a%2f%2fwww.googleapis.com%2fauth%2fdocs.test%20https%3a%2f%2fwww.googleapis.com%2fauth%2fdrive%20https%3a%2f%2fwww.googleapis.com%2fauth%2fdrive.photos.readonly%20https%3a%2f%2fwww.googleapis.com%2fauth%2fpeopleapi.readonly\n",
            "\n",
            "Enter your authorization code:\n",
            "··········\n",
            "Mounted at /content/drive\n"
          ],
          "name": "stdout"
        }
      ]
    },
    {
      "cell_type": "code",
      "metadata": {
        "id": "oOK0okz7w02-",
        "colab_type": "code",
        "colab": {}
      },
      "source": [
        "test_set=pd.read_csv('/content/drive/My Drive/Machine Learning/Boltzmann_Machines/ml-100k/u1.test',delimiter='\\t')\n"
      ],
      "execution_count": 0,
      "outputs": []
    },
    {
      "cell_type": "code",
      "metadata": {
        "id": "unVSYl6rx7Ft",
        "colab_type": "code",
        "colab": {}
      },
      "source": [
        "training_set=np.array(training_set,dtype=int)\n",
        "test_set=np.array(test_set,dtype=int)"
      ],
      "execution_count": 0,
      "outputs": []
    },
    {
      "cell_type": "code",
      "metadata": {
        "id": "uA1xF_1KxpN1",
        "colab_type": "code",
        "colab": {}
      },
      "source": [
        "max_users=int(max(max(training_set[:,0]),max(test_set[:,0])))\n",
        "max_movies=int(max(max(training_set[:,1]),max(test_set[:,1])))\n"
      ],
      "execution_count": 0,
      "outputs": []
    },
    {
      "cell_type": "code",
      "metadata": {
        "id": "A99R0uhnw9jy",
        "colab_type": "code",
        "colab": {}
      },
      "source": [
        "def convert(data):\n",
        "  convdata=np.zeros((max_users+1)*(max_movies+1)).reshape(max_users+1,max_movies+1)\n",
        "  for i in range(0,len(data)):\n",
        "    convdata[data[i][0]][data[i][1]]=data[i][2]\n",
        "  list(convdata)  \n",
        "  return convdata"
      ],
      "execution_count": 0,
      "outputs": []
    },
    {
      "cell_type": "code",
      "metadata": {
        "id": "Z-wkN6u10fdX",
        "colab_type": "code",
        "outputId": "c93f95b9-5194-44b0-943b-bc8b2ce870a2",
        "colab": {
          "base_uri": "https://localhost:8080/",
          "height": 134
        }
      },
      "source": [
        "tra=convert(training_set)\n",
        "print(tra)"
      ],
      "execution_count": 44,
      "outputs": [
        {
          "output_type": "stream",
          "text": [
            "[[0. 0. 0. ... 0. 0. 0.]\n",
            " [0. 0. 3. ... 0. 0. 0.]\n",
            " [0. 4. 0. ... 0. 0. 0.]\n",
            " ...\n",
            " [0. 5. 0. ... 0. 0. 0.]\n",
            " [0. 0. 0. ... 0. 0. 0.]\n",
            " [0. 0. 5. ... 0. 0. 0.]]\n"
          ],
          "name": "stdout"
        }
      ]
    },
    {
      "cell_type": "code",
      "metadata": {
        "id": "_jbkFV2w1yas",
        "colab_type": "code",
        "colab": {}
      },
      "source": [
        "training_set=convert(training_set)\n",
        "test_set=convert(test_set)"
      ],
      "execution_count": 0,
      "outputs": []
    },
    {
      "cell_type": "code",
      "metadata": {
        "id": "DGalv5hy3Ef_",
        "colab_type": "code",
        "colab": {}
      },
      "source": [
        "training_set=torch.FloatTensor(training_set)\n",
        "test_set=torch.FloatTensor(test_set)"
      ],
      "execution_count": 0,
      "outputs": []
    },
    {
      "cell_type": "code",
      "metadata": {
        "id": "L1l4KeHC4EJV",
        "colab_type": "code",
        "colab": {}
      },
      "source": [
        "training_set[training_set==0]=-1\n",
        "training_set[training_set==1]=0\n",
        "training_set[training_set==2]=0\n",
        "training_set[training_set>=3]=1"
      ],
      "execution_count": 0,
      "outputs": []
    },
    {
      "cell_type": "code",
      "metadata": {
        "id": "prBvgJdY4L_t",
        "colab_type": "code",
        "colab": {}
      },
      "source": [
        "test_set[test_set==0]=-1\n",
        "test_set[test_set==1]=0\n",
        "test_set[test_set==2]=0\n",
        "test_set[test_set>=3]=1"
      ],
      "execution_count": 0,
      "outputs": []
    },
    {
      "cell_type": "code",
      "metadata": {
        "id": "3UJDugLz4q9q",
        "colab_type": "code",
        "colab": {}
      },
      "source": [
        "class RBM():\n",
        "  def __init__(self,nv,nh):\n",
        "    self.W=torch.randn(nh,nv)\n",
        "    self.A=torch.randn(1,nh)\n",
        "    self.B=torch.randn(1,nv)\n",
        "  def sample_h(self,x):\n",
        "     wx = torch.mm(x, self.W.t())\n",
        "     activation = wx + self.A.expand_as(wx)\n",
        "     p_h_given_v = torch.sigmoid(activation)\n",
        "     return p_h_given_v, torch.bernoulli(p_h_given_v) \n",
        "  def sample_v(self,y):\n",
        "    wy = torch.mm( y, self.W )\n",
        "    activation = wy + self.B.expand_as(wy)\n",
        "    p_v_given_h = torch.sigmoid(activation)\n",
        "    return p_v_given_h,torch.bernoulli(p_v_given_h) \n",
        "  def train(self, v0, vk, ph0, phk):\n",
        "    self.W +=(torch.mm(v0.t(), ph0) - torch.mm(vk.t(), phk)).t()\n",
        "    self.B += torch.sum((v0-vk), 0)\n",
        "    self.A += torch.sum((ph0-phk), 0)"
      ],
      "execution_count": 0,
      "outputs": []
    },
    {
      "cell_type": "code",
      "metadata": {
        "id": "C7TkEfHgMU99",
        "colab_type": "code",
        "colab": {}
      },
      "source": [
        "nv=len(training_set[0])\n",
        "nh=200\n",
        "batch_size=50\n",
        "rbm=RBM(nv,nh)"
      ],
      "execution_count": 0,
      "outputs": []
    },
    {
      "cell_type": "code",
      "metadata": {
        "id": "1CcWQdTpNeo-",
        "colab_type": "code",
        "colab": {
          "base_uri": "https://localhost:8080/",
          "height": 185
        },
        "outputId": "bef5f078-bed6-4a76-cd24-733ec5355352"
      },
      "source": [
        "nb_epochs=10\n",
        "for i in range(1,nb_epochs+1):\n",
        "  train_loss=0;\n",
        "  s=0.\n",
        "  for id_user in range(1,max_users-batch_size,batch_size):\n",
        "    vk=training_set[id_user:id_user+batch_size]\n",
        "    v0=training_set[id_user:id_user+batch_size]\n",
        "    ph0,_=rbm.sample_h(v0)\n",
        "    for k in range(10):\n",
        "      _,hk=rbm.sample_h(vk)\n",
        "      _,vk=rbm.sample_v(hk)\n",
        "      vk[v0<0]=v0[v0<0]\n",
        "    phk,_=rbm.sample_h(vk)\n",
        "    rbm.train(v0, vk, ph0, phk)  \n",
        "    train_loss+=torch.mean(torch.abs(v0[v0>=0]-vk[v0>=0]))\n",
        "    s+=1.\n",
        "  print(\"epoch: \"+str(i)+\" loss: \"+str(train_loss/s))  "
      ],
      "execution_count": 88,
      "outputs": [
        {
          "output_type": "stream",
          "text": [
            "epoch: 1 loss: tensor(0.3234)\n",
            "epoch: 2 loss: tensor(0.2482)\n",
            "epoch: 3 loss: tensor(0.2508)\n",
            "epoch: 4 loss: tensor(0.2480)\n",
            "epoch: 5 loss: tensor(0.2500)\n",
            "epoch: 6 loss: tensor(0.2503)\n",
            "epoch: 7 loss: tensor(0.2473)\n",
            "epoch: 8 loss: tensor(0.2460)\n",
            "epoch: 9 loss: tensor(0.2470)\n",
            "epoch: 10 loss: tensor(0.2457)\n"
          ],
          "name": "stdout"
        }
      ]
    },
    {
      "cell_type": "code",
      "metadata": {
        "id": "tVrbx4BbUlQK",
        "colab_type": "code",
        "colab": {
          "base_uri": "https://localhost:8080/",
          "height": 34
        },
        "outputId": "3fd65b75-a9b4-4793-a4f5-07637702a3ed"
      },
      "source": [
        "test_loss=0;\n",
        "s=0.\n",
        "for id_user in range(max_users):\n",
        "    v=training_set[id_user:id_user+1]\n",
        "    vt=test_set[id_user:id_user+1]\n",
        "    if len(vt[vt>=0])>0:\n",
        "      _,h=rbm.sample_h(v)\n",
        "      _,v=rbm.sample_v(h)\n",
        "      test_loss+=torch.mean(torch.abs(vt[vt>=0] - v[vt>=0]))\n",
        "      s+=1.\n",
        "      \n",
        "print(\"test loss: \"+str(test_loss/s))  "
      ],
      "execution_count": 91,
      "outputs": [
        {
          "output_type": "stream",
          "text": [
            "test loss: tensor(0.2399)\n"
          ],
          "name": "stdout"
        }
      ]
    },
    {
      "cell_type": "code",
      "metadata": {
        "id": "QrIp3nCkaN2e",
        "colab_type": "code",
        "colab": {}
      },
      "source": [
        ""
      ],
      "execution_count": 0,
      "outputs": []
    }
  ]
}